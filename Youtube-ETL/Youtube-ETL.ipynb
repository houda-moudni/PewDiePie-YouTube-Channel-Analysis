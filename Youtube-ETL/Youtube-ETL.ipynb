{
 "cells": [
  {
   "cell_type": "markdown",
   "id": "50dd9385",
   "metadata": {},
   "source": [
    "\n",
    "<img src=\"https://upload.wikimedia.org/wikipedia/commons/7/72/YouTube_social_white_square_%282017%29.svg\">\n",
    "\n",
    "\n",
    "# `Youtube`-ETL\n",
    "\n"
   ]
  },
  {
   "cell_type": "markdown",
   "id": "7d32da92",
   "metadata": {},
   "source": [
    "#"
   ]
  },
  {
   "cell_type": "code",
   "execution_count": 20,
   "id": "cfb5f555",
   "metadata": {},
   "outputs": [
    {
     "name": "stdout",
     "output_type": "stream",
     "text": [
      "Requirement already satisfied: google-api-python-client in /Users/houdamoudni/anaconda3/lib/python3.11/site-packages (2.104.0)\n",
      "Requirement already satisfied: httplib2<1.dev0,>=0.15.0 in /Users/houdamoudni/anaconda3/lib/python3.11/site-packages (from google-api-python-client) (0.22.0)\n",
      "Requirement already satisfied: google-auth<3.0.0.dev0,>=1.19.0 in /Users/houdamoudni/anaconda3/lib/python3.11/site-packages (from google-api-python-client) (2.22.0)\n",
      "Requirement already satisfied: google-auth-httplib2>=0.1.0 in /Users/houdamoudni/anaconda3/lib/python3.11/site-packages (from google-api-python-client) (0.1.1)\n",
      "Requirement already satisfied: google-api-core!=2.0.*,!=2.1.*,!=2.2.*,!=2.3.0,<3.0.0.dev0,>=1.31.5 in /Users/houdamoudni/anaconda3/lib/python3.11/site-packages (from google-api-python-client) (2.12.0)\n",
      "Requirement already satisfied: uritemplate<5,>=3.0.1 in /Users/houdamoudni/anaconda3/lib/python3.11/site-packages (from google-api-python-client) (4.1.1)\n",
      "Requirement already satisfied: googleapis-common-protos<2.0.dev0,>=1.56.2 in /Users/houdamoudni/anaconda3/lib/python3.11/site-packages (from google-api-core!=2.0.*,!=2.1.*,!=2.2.*,!=2.3.0,<3.0.0.dev0,>=1.31.5->google-api-python-client) (1.61.0)\n",
      "Requirement already satisfied: protobuf!=3.20.0,!=3.20.1,!=4.21.0,!=4.21.1,!=4.21.2,!=4.21.3,!=4.21.4,!=4.21.5,<5.0.0.dev0,>=3.19.5 in /Users/houdamoudni/anaconda3/lib/python3.11/site-packages (from google-api-core!=2.0.*,!=2.1.*,!=2.2.*,!=2.3.0,<3.0.0.dev0,>=1.31.5->google-api-python-client) (4.21.12)\n",
      "Requirement already satisfied: requests<3.0.0.dev0,>=2.18.0 in /Users/houdamoudni/anaconda3/lib/python3.11/site-packages (from google-api-core!=2.0.*,!=2.1.*,!=2.2.*,!=2.3.0,<3.0.0.dev0,>=1.31.5->google-api-python-client) (2.29.0)\n",
      "Requirement already satisfied: cachetools<6.0,>=2.0.0 in /Users/houdamoudni/anaconda3/lib/python3.11/site-packages (from google-auth<3.0.0.dev0,>=1.19.0->google-api-python-client) (5.3.1)\n",
      "Requirement already satisfied: pyasn1-modules>=0.2.1 in /Users/houdamoudni/anaconda3/lib/python3.11/site-packages (from google-auth<3.0.0.dev0,>=1.19.0->google-api-python-client) (0.2.8)\n",
      "Requirement already satisfied: rsa<5,>=3.1.4 in /Users/houdamoudni/anaconda3/lib/python3.11/site-packages (from google-auth<3.0.0.dev0,>=1.19.0->google-api-python-client) (4.9)\n",
      "Requirement already satisfied: six>=1.9.0 in /Users/houdamoudni/anaconda3/lib/python3.11/site-packages (from google-auth<3.0.0.dev0,>=1.19.0->google-api-python-client) (1.16.0)\n",
      "Requirement already satisfied: urllib3<2.0 in /Users/houdamoudni/anaconda3/lib/python3.11/site-packages (from google-auth<3.0.0.dev0,>=1.19.0->google-api-python-client) (1.26.16)\n",
      "Requirement already satisfied: pyparsing!=3.0.0,!=3.0.1,!=3.0.2,!=3.0.3,<4,>=2.4.2 in /Users/houdamoudni/anaconda3/lib/python3.11/site-packages (from httplib2<1.dev0,>=0.15.0->google-api-python-client) (3.0.9)\n",
      "Requirement already satisfied: pyasn1<0.5.0,>=0.4.6 in /Users/houdamoudni/anaconda3/lib/python3.11/site-packages (from pyasn1-modules>=0.2.1->google-auth<3.0.0.dev0,>=1.19.0->google-api-python-client) (0.4.8)\n",
      "Requirement already satisfied: charset-normalizer<4,>=2 in /Users/houdamoudni/anaconda3/lib/python3.11/site-packages (from requests<3.0.0.dev0,>=2.18.0->google-api-core!=2.0.*,!=2.1.*,!=2.2.*,!=2.3.0,<3.0.0.dev0,>=1.31.5->google-api-python-client) (2.0.4)\n",
      "Requirement already satisfied: idna<4,>=2.5 in /Users/houdamoudni/anaconda3/lib/python3.11/site-packages (from requests<3.0.0.dev0,>=2.18.0->google-api-core!=2.0.*,!=2.1.*,!=2.2.*,!=2.3.0,<3.0.0.dev0,>=1.31.5->google-api-python-client) (3.4)\n",
      "Requirement already satisfied: certifi>=2017.4.17 in /Users/houdamoudni/anaconda3/lib/python3.11/site-packages (from requests<3.0.0.dev0,>=2.18.0->google-api-core!=2.0.*,!=2.1.*,!=2.2.*,!=2.3.0,<3.0.0.dev0,>=1.31.5->google-api-python-client) (2023.5.7)\n",
      "Note: you may need to restart the kernel to use updated packages.\n"
     ]
    }
   ],
   "source": [
    "pip install google-api-python-client"
   ]
  },
  {
   "cell_type": "markdown",
   "id": "45e35fcb",
   "metadata": {},
   "source": [
    "##### Importing the necessary packages"
   ]
  },
  {
   "cell_type": "code",
   "execution_count": 1,
   "id": "3f092bf9",
   "metadata": {},
   "outputs": [],
   "source": [
    "import googleapiclient.discovery\n",
    "import googleapiclient.errors\n",
    "import pandas as pd\n",
    "import mysql.connector\n",
    "from sqlalchemy import create_engine"
   ]
  },
  {
   "cell_type": "markdown",
   "id": "28934145",
   "metadata": {},
   "source": [
    "##### Get the playlist id "
   ]
  },
  {
   "cell_type": "code",
   "execution_count": 37,
   "id": "afd8e457",
   "metadata": {},
   "outputs": [],
   "source": [
    "\n",
    "api_key = \"your_api_key\"\n",
    "channel_id=\"UC-lHJZR3Gqxm24_Vd_AJ5Yw\"\n",
    "youtube = googleapiclient.discovery.build(\"youtube\", \"v3\", developerKey=api_key)\n",
    "\n",
    "def getPlaylistId() :\n",
    "    \n",
    "    request = youtube.channels().list(\n",
    "            part='snippet,contentDetails,statistics',\n",
    "            id=channel_id)\n",
    "\n",
    "    response = request.execute()\n",
    "\n",
    "    for channel in response[\"items\"] :\n",
    "        \n",
    "        return channel[\"contentDetails\"][\"relatedPlaylists\"][\"uploads\"] \n",
    "    "
   ]
  },
  {
   "cell_type": "markdown",
   "id": "6fc6df17",
   "metadata": {},
   "source": [
    "##### Get the data "
   ]
  },
  {
   "cell_type": "code",
   "execution_count": 38,
   "id": "1b771461",
   "metadata": {},
   "outputs": [],
   "source": [
    "\n",
    "def uploadVideos():\n",
    "    \n",
    "    playlistId = getPlaylistId()\n",
    "    \n",
    "    request = youtube.playlistItems().list(\n",
    "        part = \"snippet,contentDetails\",\n",
    "        playlistId = playlistId,\n",
    "        maxResults = 50\n",
    "    )\n",
    "\n",
    "    response = request.execute()\n",
    "\n",
    "    publishedAt = []\n",
    "    title = []\n",
    "    video_id = []\n",
    "    views = []\n",
    "    likes = []\n",
    "\n",
    "    for channel in response[\"items\"] :\n",
    "        publishedAt.append(channel[\"snippet\"][\"publishedAt\"][0:10])\n",
    "        title.append(channel[\"snippet\"][\"title\"])\n",
    "        video_id.append(channel['snippet']['resourceId']['videoId'])\n",
    "\n",
    "    for idV in video_id :\n",
    "        video_request = youtube.videos().list(\n",
    "            part=\"statistics\",\n",
    "            id=idV\n",
    "        )\n",
    "        video_response = video_request.execute()\n",
    "        views.append(video_response[\"items\"][0][\"statistics\"][\"viewCount\"])\n",
    "        likes.append(video_response[\"items\"][0][\"statistics\"][\"likeCount\"])\n",
    "\n",
    "\n",
    "    data = {\n",
    "        \"Title\": title,\n",
    "        \"PublishedAt\": publishedAt,\n",
    "        \"ViewsCounts\": views,\n",
    "        \"LikeCounts\" : likes\n",
    "        \n",
    "    }\n",
    "    \n",
    "    return data\n"
   ]
  },
  {
   "cell_type": "markdown",
   "id": "f71e6e9b",
   "metadata": {},
   "source": [
    "##### Transform it into a dataframe "
   ]
  },
  {
   "cell_type": "code",
   "execution_count": 39,
   "id": "abd53c8b",
   "metadata": {},
   "outputs": [],
   "source": [
    "df = pd.DataFrame(uploadVideos())"
   ]
  },
  {
   "cell_type": "code",
   "execution_count": 40,
   "id": "a15e894e",
   "metadata": {},
   "outputs": [
    {
     "data": {
      "text/html": [
       "<div>\n",
       "<style scoped>\n",
       "    .dataframe tbody tr th:only-of-type {\n",
       "        vertical-align: middle;\n",
       "    }\n",
       "\n",
       "    .dataframe tbody tr th {\n",
       "        vertical-align: top;\n",
       "    }\n",
       "\n",
       "    .dataframe thead th {\n",
       "        text-align: right;\n",
       "    }\n",
       "</style>\n",
       "<table border=\"1\" class=\"dataframe\">\n",
       "  <thead>\n",
       "    <tr style=\"text-align: right;\">\n",
       "      <th></th>\n",
       "      <th>Title</th>\n",
       "      <th>PublishedAt</th>\n",
       "      <th>ViewsCounts</th>\n",
       "      <th>LikeCounts</th>\n",
       "    </tr>\n",
       "  </thead>\n",
       "  <tbody>\n",
       "    <tr>\n",
       "      <th>0</th>\n",
       "      <td>I Learned 7 things in 7 days (to impress my son)</td>\n",
       "      <td>2023-10-12</td>\n",
       "      <td>1542365</td>\n",
       "      <td>118374</td>\n",
       "    </tr>\n",
       "    <tr>\n",
       "      <th>1</th>\n",
       "      <td>This is the best</td>\n",
       "      <td>2023-10-04</td>\n",
       "      <td>3158367</td>\n",
       "      <td>250949</td>\n",
       "    </tr>\n",
       "    <tr>\n",
       "      <th>2</th>\n",
       "      <td>The worst Hoarder on the Planet.</td>\n",
       "      <td>2023-09-30</td>\n",
       "      <td>1533686</td>\n",
       "      <td>82256</td>\n",
       "    </tr>\n",
       "    <tr>\n",
       "      <th>3</th>\n",
       "      <td>i am now supreme leader</td>\n",
       "      <td>2023-09-22</td>\n",
       "      <td>1646848</td>\n",
       "      <td>120525</td>\n",
       "    </tr>\n",
       "    <tr>\n",
       "      <th>4</th>\n",
       "      <td>dad life</td>\n",
       "      <td>2023-09-15</td>\n",
       "      <td>3804573</td>\n",
       "      <td>251355</td>\n",
       "    </tr>\n",
       "  </tbody>\n",
       "</table>\n",
       "</div>"
      ],
      "text/plain": [
       "                                              Title PublishedAt ViewsCounts  \\\n",
       "0  I Learned 7 things in 7 days (to impress my son)  2023-10-12     1542365   \n",
       "1                                  This is the best  2023-10-04     3158367   \n",
       "2                  The worst Hoarder on the Planet.  2023-09-30     1533686   \n",
       "3                           i am now supreme leader  2023-09-22     1646848   \n",
       "4                                          dad life  2023-09-15     3804573   \n",
       "\n",
       "  LikeCounts  \n",
       "0     118374  \n",
       "1     250949  \n",
       "2      82256  \n",
       "3     120525  \n",
       "4     251355  "
      ]
     },
     "execution_count": 40,
     "metadata": {},
     "output_type": "execute_result"
    }
   ],
   "source": [
    "df.head()"
   ]
  },
  {
   "cell_type": "markdown",
   "id": "cadf093d",
   "metadata": {},
   "source": [
    "##### save it into a `csv` file "
   ]
  },
  {
   "cell_type": "code",
   "execution_count": 41,
   "id": "91a6b38b",
   "metadata": {},
   "outputs": [],
   "source": [
    "df.to_csv(\"PewDiePie_data.csv\", index = False)"
   ]
  },
  {
   "cell_type": "markdown",
   "id": "f3d07975",
   "metadata": {},
   "source": [
    "##### Connect to `mysql` database and create the table  "
   ]
  },
  {
   "cell_type": "code",
   "execution_count": 47,
   "id": "02031cf4",
   "metadata": {},
   "outputs": [],
   "source": [
    "\n",
    "db_user = 'user'\n",
    "db_password = 'password'\n",
    "db_host = 'localhost'\n",
    "db_name = 'youtube_etl'\n",
    "        \n",
    "        \n",
    "def createTable():\n",
    "    \n",
    "    try :\n",
    "        \n",
    "        connection = mysql.connector.connect(\n",
    "                user=db_user,\n",
    "                password=db_password,\n",
    "                host=db_host,\n",
    "                database=db_name\n",
    "            )\n",
    "\n",
    "        if connection.is_connected():\n",
    "            db_Info = connection.get_server_info()\n",
    "            print(\"Connected to MySQL Server version\", db_Info)\n",
    "            cursor = connection.cursor()\n",
    "            cursor.execute(\"select database();\")\n",
    "            record = cursor.fetchone()\n",
    "            print(\"You're connected to database:\", record)\n",
    "\n",
    "        cursor = connection.cursor()\n",
    "\n",
    "        sql_query = \"\"\"\n",
    "        DROP TABLE PewDiePie_data;\n",
    "        CREATE TABLE PewDiePie_data (\n",
    "            Title VARCHAR(200),\n",
    "            PublishedAt VARCHAR(200),\n",
    "            ViewsCounts VARCHAR(200),\n",
    "            LikeCounts VARCHAR(200)\n",
    "        );\n",
    "        \"\"\"\n",
    "\n",
    "        cursor.execute(sql_query)\n",
    "        print(\"Table successfully created\")\n",
    "            \n",
    "            \n",
    "    except mysql.connector.Error as err:\n",
    "        print(\"MySQL Error:\", err)\n"
   ]
  },
  {
   "cell_type": "code",
   "execution_count": 48,
   "id": "062c6d84",
   "metadata": {},
   "outputs": [
    {
     "name": "stdout",
     "output_type": "stream",
     "text": [
      "Connected to MySQL Server version 8.0.33\n",
      "You're connected to database: ('youtube_etl',)\n",
      "Table successfully created\n"
     ]
    }
   ],
   "source": [
    "createTable()"
   ]
  },
  {
   "cell_type": "markdown",
   "id": "8c4dc88c",
   "metadata": {},
   "source": [
    "##### load the data into `mysql` database "
   ]
  },
  {
   "cell_type": "code",
   "execution_count": 49,
   "id": "54150000",
   "metadata": {},
   "outputs": [],
   "source": [
    "\n",
    "def load():\n",
    "    try :\n",
    "        db_connection_str = f'mysql+mysqlconnector://{db_user}:{db_password}@{db_host}/{db_name}'\n",
    "        db_engine = create_engine(db_connection_str)\n",
    "        df.to_sql('PewDiePie_data', con=db_engine, if_exists='append', index=False)\n",
    "        db_engine.dispose()\n",
    "        print(\"Data successfully inserted into the database\")\n",
    "\n",
    "    except mysql.connector.Error as err:\n",
    "        print(\"MySQL Error:\", err)\n"
   ]
  },
  {
   "cell_type": "code",
   "execution_count": 50,
   "id": "7470a971",
   "metadata": {},
   "outputs": [
    {
     "name": "stdout",
     "output_type": "stream",
     "text": [
      "Data successfully inserted into the database\n"
     ]
    }
   ],
   "source": [
    "load()"
   ]
  },
  {
   "cell_type": "markdown",
   "id": "beda6611",
   "metadata": {},
   "source": [
    "# "
   ]
  },
  {
   "cell_type": "markdown",
   "id": "48638117",
   "metadata": {},
   "source": [
    "\n",
    "\n",
    "\n",
    "\n",
    "\n",
    "\n",
    "\n",
    "made by **Houda Moudni** \n",
    "Data engineering student at National School of Applied Science-ENSA\n",
    "- **e-mail** : mdnhouda1702@gmail.com   \n",
    "- **LinkedIn** : [Houda Moudni](https://www.linkedin.com/in/houda-moudni-525708257/)  \n",
    "\n"
   ]
  },
  {
   "cell_type": "markdown",
   "metadata": {},
   "source": []
  },
  {
   "cell_type": "code",
   "execution_count": null,
   "metadata": {},
   "outputs": [],
   "source": []
  },
  {
   "cell_type": "code",
   "execution_count": null,
   "metadata": {},
   "outputs": [],
   "source": []
  }
 ],
 "metadata": {
  "kernelspec": {
   "display_name": "Python 3 (ipykernel)",
   "language": "python",
   "name": "python3"
  },
  "language_info": {
   "codemirror_mode": {
    "name": "ipython",
    "version": 3
   },
   "file_extension": ".py",
   "mimetype": "text/x-python",
   "name": "python",
   "nbconvert_exporter": "python",
   "pygments_lexer": "ipython3",
   "version": "3.11.3"
  }
 },
 "nbformat": 4,
 "nbformat_minor": 5
}
